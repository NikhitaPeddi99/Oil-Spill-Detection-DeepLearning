{
  "cells": [
    {
      "cell_type": "markdown",
      "source": [
        "# Data"
      ],
      "metadata": {
        "id": "51FXcWkdNYUL"
      }
    },
    {
      "cell_type": "code",
      "source": [
        "from google.colab import drive\n",
        "drive.mount('/content/drive')"
      ],
      "metadata": {
        "colab": {
          "base_uri": "https://localhost:8080/"
        },
        "id": "s1DJwGH_OvgP",
        "outputId": "49f380ca-8138-4cc1-f551-1b3c61dc7fd5"
      },
      "execution_count": 1,
      "outputs": [
        {
          "output_type": "stream",
          "name": "stdout",
          "text": [
            "Mounted at /content/drive\n"
          ]
        }
      ]
    },
    {
      "cell_type": "code",
      "source": [
        "from __future__ import print_function\n",
        "from keras.preprocessing.image import ImageDataGenerator\n",
        "import numpy as np\n",
        "import os\n",
        "import glob\n",
        "import skimage.io as io\n",
        "import skimage.transform as trans\n",
        "import cv2\n",
        "import tensorflow as tf\n",
        "from skimage import img_as_uint\n",
        "import keras.backend as K\n",
        "import matplotlib.pyplot as plt\n",
        "\n",
        "\n",
        "from keras.models import *\n",
        "from keras.layers import *\n",
        "from keras.optimizers import *\n",
        "from keras.callbacks import ModelCheckpoint, LearningRateScheduler\n",
        "from keras.optimizers import Adam\n",
        "from keras import layers"
      ],
      "metadata": {
        "id": "4oLH3kSaLW3W"
      },
      "execution_count": 2,
      "outputs": []
    },
    {
      "cell_type": "code",
      "source": [
        "Sky = [128, 128, 128]\n",
        "Building = [128, 0, 0]\n",
        "Pole = [192, 192, 128]\n",
        "Road = [128, 64, 128]\n",
        "Pavement = [60, 40, 222]\n",
        "Tree = [128, 128, 0]\n",
        "SignSymbol = [192, 128, 128]\n",
        "Fence = [64, 64, 128]\n",
        "Car = [64, 0, 128]\n",
        "Pedestrian = [64, 64, 0]\n",
        "Bicyclist = [0, 128, 192]\n",
        "Unlabelled = [0, 0, 0]\n",
        "\n",
        "dictionary = np.array([Sky, Building, Pole, Road, Pavement,\n",
        "                       Tree, SignSymbol, Fence, Car, Pedestrian, Bicyclist, Unlabelled])"
      ],
      "metadata": {
        "id": "5UlBMHU3LoBP"
      },
      "execution_count": 3,
      "outputs": []
    },
    {
      "cell_type": "code",
      "source": [
        "def adjustData(img, mask, flag_multi_class, num_class):\n",
        "    if (flag_multi_class):\n",
        "        img = img / 255\n",
        "        mask = mask[:, :, :, 0] if (len(mask.shape) == 4) else mask[:, :, 0]\n",
        "        new_mask = np.zeros(mask.shape + (num_class,))\n",
        "        for i in range(num_class):\n",
        "            # for one pixel in the image, find the class in mask and convert it into one-hot vector\n",
        "            # index = np.where(mask == i)\n",
        "            # index_mask = (index[0],index[1],index[2],np.zeros(len(index[0]),dtype = np.int64) + i) if (len(mask.shape) == 4) else (index[0],index[1],np.zeros(len(index[0]),dtype = np.int64) + i)\n",
        "            # new_mask[index_mask] = 1\n",
        "            new_mask[mask == i, i] = 1\n",
        "            new_mask = np.reshape(new_mask, (new_mask.shape[0], new_mask.shape[1] * new_mask.shape[2],\n",
        "                                         new_mask.shape[3])) if flag_multi_class else np.reshape(new_mask, \n",
        "                                        (new_mask.shape[0] * new_mask.shape[1], new_mask.shape[2]))\n",
        "        mask = new_mask\n",
        "    elif np.max(img) > 1:\n",
        "        img = img / 255\n",
        "        mask = mask / 255\n",
        "        mask[mask >= 0.5] = 1\n",
        "        mask[mask < 0.5] = 0\n",
        "    return img, mask"
      ],
      "metadata": {
        "id": "WgHCaJr8LxqN"
      },
      "execution_count": 58,
      "outputs": []
    },
    {
      "cell_type": "code",
      "source": [
        "def trainGenerator(batch_size, train_path, image_folder, mask_folder, aug_dict, image_color_mode=\"grayscale\",\n",
        "                   mask_color_mode=\"grayscale\", image_save_prefix=\"image\", mask_save_prefix=\"mask\",\n",
        "                   flag_multi_class=False, num_class=2, save_to_dir=None, target_size=(256, 256),\n",
        "                   seed=1):\n",
        "    image_datagen = ImageDataGenerator(**aug_dict)\n",
        "    mask_datagen = ImageDataGenerator(**aug_dict)\n",
        "    \n",
        "    image_generator = image_datagen.flow_from_directory(\n",
        "         directory=train_path,\n",
        "          target_size=target_size,\n",
        "          batch_size=batch_size,\n",
        "          class_mode='categorical',\n",
        "          shuffle=True,\n",
        "          classes=['NoSpill', 'Oilspill'],\n",
        "          save_to_dir=save_to_dir,\n",
        "          save_prefix=image_save_prefix,\n",
        "          seed=seed)\n",
        "\n",
        "    mask_generator = mask_datagen.flow_from_directory(\n",
        "     directory=train_path,\n",
        "     target_size=target_size,\n",
        "     batch_size=batch_size,\n",
        "     class_mode='categorical',\n",
        "     shuffle=True,\n",
        "     classes=['NoSpill', 'Oilspill'],\n",
        "     save_to_dir=save_to_dir,\n",
        "     save_prefix=mask_save_prefix,\n",
        "     seed=seed)\n",
        "    train_generator = zip(image_generator, mask_generator)\n",
        "    for (img, mask) in train_generator:\n",
        "        img, mask = adjustData(img, mask, flag_multi_class, num_class)\n",
        "        yield img, mask"
      ],
      "metadata": {
        "id": "m0W1xgxjL7cy"
      },
      "execution_count": 71,
      "outputs": []
    },
    {
      "cell_type": "code",
      "source": [
        "def testGenerator(test_path, target_size=(256, 256), flag_multi_class=False):\n",
        "    for i in glob.glob(test_path):\n",
        "        img = cv2.imread(i)\n",
        "        image_gray = cv2.cvtColor(img, cv2.COLOR_BGR2GRAY)\n",
        "        img = image_gray / 255.\n",
        "        img = trans.resize(img, target_size)\n",
        "        img = np.reshape(img, img.shape + (1,)) if (not flag_multi_class) else img\n",
        "        img = np.reshape(img, (1,) + img.shape)\n",
        "        yield img"
      ],
      "metadata": {
        "id": "HDLUDT4wMA5J"
      },
      "execution_count": 72,
      "outputs": []
    },
    {
      "cell_type": "code",
      "source": [
        "def geneTrainNpy(image_path, mask_path, flag_multi_class=False, num_class=2, image_prefix=\"image\", mask_prefix=\"mask\",\n",
        "                 image_as_gray=True, mask_as_gray=True):\n",
        "    image_name_arr = glob.glob(os.path.join(image_path, \"%s*.png\" % image_prefix))\n",
        "    image_arr = []\n",
        "    mask_arr = []\n",
        "  \n",
        "    for index, item in enumerate(image_name_arr):\n",
        "        img = io.imread(item, as_gray=image_as_gray)\n",
        "        img = np.reshape(img, img.shape + (1,)) if image_as_gray else img\n",
        "        mask = io.imread(item.replace(image_path, mask_path).replace(image_prefix, mask_prefix), as_gray=mask_as_gray)\n",
        "        mask = np.reshape(mask, mask.shape + (1,)) if mask_as_gray else mask\n",
        "        img, mask = adjustData(img, mask, flag_multi_class, num_class)\n",
        "        image_arr.append(img)\n",
        "        mask_arr.append(mask)\n",
        "    image_arr = np.array(image_arr)\n",
        "    mask_arr = np.array(mask_arr)\n",
        "    return image_arr, mask_arr"
      ],
      "metadata": {
        "id": "NZPYEq6sMGGe"
      },
      "execution_count": 73,
      "outputs": []
    },
    {
      "cell_type": "code",
      "source": [
        "def dice_loss():\n",
        "    def loss(y_true, y_pred):\n",
        "        y_true = tf.cast(y_true, tf.float32)\n",
        "        y_pred = tf.math.sigmoid(y_pred)\n",
        "        numerator = 2 * tf.reduce_sum(y_true * y_pred)\n",
        "        denominator = tf.reduce_sum(y_true + y_pred)\n",
        "        return numerator / denominator\n",
        "\n",
        "    return loss"
      ],
      "metadata": {
        "id": "UhWEHu_sMKtb"
      },
      "execution_count": 74,
      "outputs": []
    },
    {
      "cell_type": "code",
      "source": [
        "def jaccard_coef():\n",
        "    def loss1(y_true, y_pred):\n",
        "        y_true_f = K.flatten(y_true)\n",
        "        y_pred_f = K.flatten(y_pred)\n",
        "        intersection = K.sum(y_true_f * y_pred_f)\n",
        "        return 1 - (intersection + 1.0) / (K.sum(y_true_f) + K.sum(y_pred_f) - intersection + 1.0)\n",
        "\n",
        "    return loss1"
      ],
      "metadata": {
        "id": "7Bzv5WydMOeb"
      },
      "execution_count": 75,
      "outputs": []
    },
    {
      "cell_type": "code",
      "source": [
        "def labelVisualize(num_class, color_dict, img):\n",
        "    img = img[:, :, 0] if len(img.shape) == 3 else img\n",
        "    img_out = np.zeros(img.shape + (3,))\n",
        "    for i in range(num_class):\n",
        "        img_out[img == i, :] = color_dict[i]\n",
        "    return img_out"
      ],
      "metadata": {
        "id": "Z1SdLSo_MRfW"
      },
      "execution_count": 76,
      "outputs": []
    },
    {
      "cell_type": "code",
      "source": [
        "def saveResult(save_path, npyfile, flag_multi_class=False, num_class=2):\n",
        "    for i, item in enumerate(npyfile):\n",
        "        img = labelVisualize(num_class, dictionary, item) if flag_multi_class else item[:, :, 0]\n",
        "        io.imsave(os.path.join(save_path, \"%d_predict.tif\" % i), img_as_uint(img))"
      ],
      "metadata": {
        "id": "tvPWn6lpMU7q"
      },
      "execution_count": 77,
      "outputs": []
    },
    {
      "cell_type": "markdown",
      "source": [
        "#Model"
      ],
      "metadata": {
        "id": "uC1BMwOoNVX7"
      }
    },
    {
      "cell_type": "code",
      "execution_count": 78,
      "metadata": {
        "id": "9WSu5npqJhE7"
      },
      "outputs": [],
      "source": [
        "def unet(pretrained_weights=None, input_size=(256, 256, 1)):\n",
        "    inputs = Input(input_size)\n",
        "\n",
        "    conv1 = Conv2D(64, 3, activation='relu', padding='same', kernel_initializer='he_normal')(inputs)\n",
        "    conv1 = Conv2D(64, 3, activation='relu', padding='same', kernel_initializer='he_normal')(conv1)\n",
        "    pool1 = MaxPooling2D(pool_size=(2, 2))(conv1)\n",
        "    conv2 = Conv2D(128, 3, activation='relu', padding='same', kernel_initializer='he_normal')(pool1)\n",
        "    conv2 = Conv2D(128, 3, activation='relu', padding='same', kernel_initializer='he_normal')(conv2)\n",
        "    pool2 = MaxPooling2D(pool_size=(2, 2))(conv2)\n",
        "    conv3 = Conv2D(256, 3, activation='relu', padding='same', kernel_initializer='he_normal')(pool2)\n",
        "    conv3 = Conv2D(256, 3, activation='relu', padding='same', kernel_initializer='he_normal')(conv3)\n",
        "    pool3 = MaxPooling2D(pool_size=(2, 2))(conv3)\n",
        "    conv4 = Conv2D(512, 3, activation='relu', padding='same', kernel_initializer='he_normal')(pool3)\n",
        "    conv4 = Conv2D(512, 3, activation='relu', padding='same', kernel_initializer='he_normal')(conv4)\n",
        "    drop4 = Dropout(0.5)(conv4)\n",
        "    pool4 = MaxPooling2D(pool_size=(2, 2))(drop4)\n",
        "\n",
        "    conv5 = Conv2D(1024, 3, activation='relu', padding='same', kernel_initializer='he_normal')(pool4)\n",
        "    conv5 = Conv2D(1024, 3, activation='relu', padding='same', kernel_initializer='he_normal')(conv5)\n",
        "    drop5 = Dropout(0.5)(conv5)\n",
        "\n",
        "    up6 = Conv2D(512, 2, activation='relu', padding='same', kernel_initializer='he_normal')(\n",
        "        UpSampling2D(size=(2, 2))(drop5))\n",
        "    merge6 = concatenate([drop4, up6], axis=3)\n",
        "    conv6 = Conv2D(512, 3, activation='relu', padding='same', kernel_initializer='he_normal')(merge6)\n",
        "    conv6 = Conv2D(512, 3, activation='relu', padding='same', kernel_initializer='he_normal')(conv6)\n",
        "\n",
        "    up7 = Conv2D(256, 2, activation='relu', padding='same', kernel_initializer='he_normal')(\n",
        "        UpSampling2D(size=(2, 2))(conv6))\n",
        "    merge7 = concatenate([conv3, up7], axis=3)\n",
        "    conv7 = Conv2D(256, 3, activation='relu', padding='same', kernel_initializer='he_normal')(merge7)\n",
        "    conv7 = Conv2D(256, 3, activation='relu', padding='same', kernel_initializer='he_normal')(conv7)\n",
        "\n",
        "    up8 = Conv2D(128, 2, activation='relu', padding='same', kernel_initializer='he_normal')(\n",
        "        UpSampling2D(size=(2, 2))(conv7))\n",
        "    merge8 = concatenate([conv2, up8], axis=3)\n",
        "    conv8 = Conv2D(128, 3, activation='relu', padding='same', kernel_initializer='he_normal')(merge8)\n",
        "    conv8 = Conv2D(128, 3, activation='relu', padding='same', kernel_initializer='he_normal')(conv8)\n",
        "\n",
        "    up9 = Conv2D(64, 2, activation='relu', padding='same', kernel_initializer='he_normal')(\n",
        "        UpSampling2D(size=(2, 2))(conv8))\n",
        "    merge9 = concatenate([conv1, up9], axis=3)\n",
        "    conv9 = Conv2D(64, 3, activation='relu', padding='same', kernel_initializer='he_normal')(merge9)\n",
        "    conv9 = Conv2D(64, 3, activation='relu', padding='same', kernel_initializer='he_normal')(conv9)\n",
        "    conv9 = Conv2D(2, 3, activation='relu', padding='same', kernel_initializer='he_normal')(conv9)\n",
        "    conv10 = Conv2D(1, 1, activation='sigmoid')(conv9)\n",
        "\n",
        "    model = Model(inputs=inputs, outputs=conv10)\n",
        "\n",
        "    model.compile(optimizer=Adam(learning_rate=3e-5), loss='binary_crossentropy', metrics=['accuracy', tf.keras.metrics.MeanIoU(num_classes=2), jaccard_coef()])\n",
        "\n",
        "    # model.summary()\n",
        "\n",
        "    if pretrained_weights:\n",
        "        model.load_weights(pretrained_weights)\n",
        "\n",
        "    return model\n"
      ]
    },
    {
      "cell_type": "markdown",
      "source": [
        "# Data Prepare"
      ],
      "metadata": {
        "id": "Y6Yon8YkQijd"
      }
    },
    {
      "cell_type": "code",
      "source": [
        "#if you don't want to do data augmentation, set data_gen_args as an empty dict.\n",
        "# data_gen_args = dict()\n",
        "\n",
        "data_gen_args = dict(rotation_range=0.2,\n",
        "                    width_shift_range=0.05,\n",
        "                    height_shift_range=0.05,\n",
        "                    shear_range=0.05,\n",
        "                    zoom_range=0.05,\n",
        "                    horizontal_flip=True,\n",
        "                    fill_mode='nearest')\n",
        "myGenerator = trainGenerator(100,'/content/drive/MyDrive/Data_sets/PETR/Spill_Data/_mask_train_/','image','label',data_gen_args,save_to_dir = \"/content/drive/MyDrive/Data_sets/PETR/Spill_Data/aug/\")"
      ],
      "metadata": {
        "id": "qRqzz9QLQmHD"
      },
      "execution_count": 121,
      "outputs": []
    },
    {
      "cell_type": "code",
      "source": [],
      "metadata": {
        "id": "RA_8MYlkQmNG"
      },
      "execution_count": 131,
      "outputs": []
    },
    {
      "cell_type": "code",
      "source": [],
      "metadata": {
        "id": "u3XtVGEDPY62"
      },
      "execution_count": null,
      "outputs": []
    },
    {
      "cell_type": "markdown",
      "metadata": {
        "id": "w8_S8-6mJhE_"
      },
      "source": [
        "### Train with data generator"
      ]
    },
    {
      "cell_type": "code",
      "execution_count": 120,
      "metadata": {
        "id": "uTyeyYDFJhFA"
      },
      "outputs": [],
      "source": [
        "model = None\n",
        "model = unet()\n",
        "model_checkpoint = ModelCheckpoint('unet_oilspill.hdf5', monitor='loss',verbose=1, save_best_only=True)"
      ]
    },
    {
      "cell_type": "markdown",
      "metadata": {
        "id": "yT24yJwSJhFB"
      },
      "source": [
        "### Train with npy file"
      ]
    },
    {
      "cell_type": "code",
      "execution_count": 122,
      "metadata": {
        "colab": {
          "base_uri": "https://localhost:8080/"
        },
        "id": "duvMO06eJhFC",
        "outputId": "20e46566-69a5-4c7f-9a4d-7afee754d290"
      },
      "outputs": [
        {
          "output_type": "stream",
          "name": "stdout",
          "text": [
            "Epoch 1/10\n",
            "2/2 [==============================] - ETA: 0s - loss: 0.6141 - accuracy: 0.4789 - mean_io_u_14: 0.3078 - loss1: 0.5719  \n",
            "Epoch 1: loss improved from inf to 0.61407, saving model to unet_oilspill.hdf5\n",
            "2/2 [==============================] - 162s 87s/step - loss: 0.6141 - accuracy: 0.4789 - mean_io_u_14: 0.3078 - loss1: 0.5719 - val_loss: 0.6238 - val_accuracy: 0.1773 - val_mean_io_u_14: 0.4114 - val_loss1: 0.6221\n",
            "Epoch 2/10\n",
            "2/2 [==============================] - ETA: 0s - loss: 0.5266 - accuracy: 0.3845 - mean_io_u_14: 0.3078 - loss1: 0.4758  \n",
            "Epoch 2: loss improved from 0.61407 to 0.52660, saving model to unet_oilspill.hdf5\n",
            "2/2 [==============================] - 161s 82s/step - loss: 0.5266 - accuracy: 0.3845 - mean_io_u_14: 0.3078 - loss1: 0.4758 - val_loss: 0.6059 - val_accuracy: 0.1773 - val_mean_io_u_14: 0.4114 - val_loss1: 0.5939\n",
            "Epoch 3/10\n",
            "2/2 [==============================] - ETA: 0s - loss: 0.4735 - accuracy: 0.5082 - mean_io_u_14: 0.3078 - loss1: 0.4400  \n",
            "Epoch 3: loss improved from 0.52660 to 0.47354, saving model to unet_oilspill.hdf5\n",
            "2/2 [==============================] - 150s 82s/step - loss: 0.4735 - accuracy: 0.5082 - mean_io_u_14: 0.3078 - loss1: 0.4400 - val_loss: 0.5725 - val_accuracy: 0.4605 - val_mean_io_u_14: 0.4114 - val_loss1: 0.5722\n",
            "Epoch 4/10\n",
            "2/2 [==============================] - ETA: 0s - loss: 0.4445 - accuracy: 0.6059 - mean_io_u_14: 0.3078 - loss1: 0.4122  \n",
            "Epoch 4: loss improved from 0.47354 to 0.44453, saving model to unet_oilspill.hdf5\n",
            "2/2 [==============================] - 151s 82s/step - loss: 0.4445 - accuracy: 0.6059 - mean_io_u_14: 0.3078 - loss1: 0.4122 - val_loss: 0.5790 - val_accuracy: 0.4054 - val_mean_io_u_14: 0.4114 - val_loss1: 0.5529\n",
            "Epoch 5/10\n",
            "2/2 [==============================] - ETA: 0s - loss: 0.4236 - accuracy: 0.6037 - mean_io_u_14: 0.3078 - loss1: 0.3857  \n",
            "Epoch 5: loss improved from 0.44453 to 0.42361, saving model to unet_oilspill.hdf5\n",
            "2/2 [==============================] - 149s 81s/step - loss: 0.4236 - accuracy: 0.6037 - mean_io_u_14: 0.3078 - loss1: 0.3857 - val_loss: 0.5501 - val_accuracy: 0.5046 - val_mean_io_u_14: 0.4114 - val_loss1: 0.5437\n",
            "Epoch 6/10\n",
            "2/2 [==============================] - ETA: 0s - loss: 0.4096 - accuracy: 0.6477 - mean_io_u_14: 0.3078 - loss1: 0.3814  \n",
            "Epoch 6: loss improved from 0.42361 to 0.40959, saving model to unet_oilspill.hdf5\n",
            "2/2 [==============================] - 153s 80s/step - loss: 0.4096 - accuracy: 0.6477 - mean_io_u_14: 0.3078 - loss1: 0.3814 - val_loss: 0.5556 - val_accuracy: 0.4912 - val_mean_io_u_14: 0.4114 - val_loss1: 0.5314\n",
            "Epoch 7/10\n",
            "2/2 [==============================] - ETA: 0s - loss: 0.3990 - accuracy: 0.6380 - mean_io_u_14: 0.3078 - loss1: 0.3578  \n",
            "Epoch 7: loss improved from 0.40959 to 0.39899, saving model to unet_oilspill.hdf5\n",
            "2/2 [==============================] - 151s 81s/step - loss: 0.3990 - accuracy: 0.6380 - mean_io_u_14: 0.3078 - loss1: 0.3578 - val_loss: 0.5334 - val_accuracy: 0.5428 - val_mean_io_u_14: 0.4114 - val_loss1: 0.5260\n",
            "Epoch 8/10\n",
            "2/2 [==============================] - ETA: 0s - loss: 0.3922 - accuracy: 0.6650 - mean_io_u_14: 0.3078 - loss1: 0.3650  \n",
            "Epoch 8: loss improved from 0.39899 to 0.39223, saving model to unet_oilspill.hdf5\n",
            "2/2 [==============================] - 148s 79s/step - loss: 0.3922 - accuracy: 0.6650 - mean_io_u_14: 0.3078 - loss1: 0.3650 - val_loss: 0.5486 - val_accuracy: 0.5198 - val_mean_io_u_14: 0.4114 - val_loss1: 0.5172\n",
            "Epoch 9/10\n",
            "2/2 [==============================] - ETA: 0s - loss: 0.3880 - accuracy: 0.6489 - mean_io_u_14: 0.3078 - loss1: 0.3424  \n",
            "Epoch 9: loss improved from 0.39223 to 0.38803, saving model to unet_oilspill.hdf5\n",
            "2/2 [==============================] - 148s 79s/step - loss: 0.3880 - accuracy: 0.6489 - mean_io_u_14: 0.3078 - loss1: 0.3424 - val_loss: 0.5268 - val_accuracy: 0.5592 - val_mean_io_u_14: 0.4114 - val_loss1: 0.5165\n",
            "Epoch 10/10\n",
            "2/2 [==============================] - ETA: 0s - loss: 0.3852 - accuracy: 0.6727 - mean_io_u_14: 0.3078 - loss1: 0.3591  \n",
            "Epoch 10: loss improved from 0.38803 to 0.38518, saving model to unet_oilspill.hdf5\n",
            "2/2 [==============================] - 157s 81s/step - loss: 0.3852 - accuracy: 0.6727 - mean_io_u_14: 0.3078 - loss1: 0.3591 - val_loss: 0.5320 - val_accuracy: 0.5527 - val_mean_io_u_14: 0.4114 - val_loss1: 0.5124\n"
          ]
        }
      ],
      "source": [
        "imgs_train,imgs_mask_train = geneTrainNpy(\"/content/drive/MyDrive/Data_sets/PETR/Spill_Data/aug/\",\"/content/drive/MyDrive/Data_sets/PETR/Spill_Data/aug/\")\n",
        "history = model.fit(imgs_train, imgs_mask_train, batch_size=8, epochs=10, verbose=1, validation_split=0.2, shuffle=False, callbacks=[model_checkpoint])"
      ]
    },
    {
      "cell_type": "markdown",
      "metadata": {
        "id": "S4hkPWdIJhFC"
      },
      "source": [
        "### test your model and save predicted results"
      ]
    },
    {
      "cell_type": "code",
      "execution_count": 111,
      "metadata": {
        "colab": {
          "base_uri": "https://localhost:8080/"
        },
        "id": "qHCU4bJvJhFD",
        "outputId": "7b0d33f9-6d36-41f6-ebad-ca848d53f71b"
      },
      "outputs": [
        {
          "output_type": "stream",
          "name": "stderr",
          "text": [
            "<ipython-input-111-34ef18c50a70>:4: UserWarning: `Model.predict_generator` is deprecated and will be removed in a future version. Please use `Model.predict`, which supports generators.\n",
            "  results = model.predict_generator(testGene,30,verbose=1)\n"
          ]
        },
        {
          "output_type": "stream",
          "name": "stdout",
          "text": [
            "30/30 [==============================] - 76s 3s/step\n"
          ]
        },
        {
          "output_type": "stream",
          "name": "stderr",
          "text": [
            "<ipython-input-77-e6a539a76b74>:4: UserWarning: /content/drive/MyDrive/Data_sets/PETR/Spill_Data/results/0_predict.tif is a low contrast image\n",
            "  io.imsave(os.path.join(save_path, \"%d_predict.tif\" % i), img_as_uint(img))\n",
            "<ipython-input-77-e6a539a76b74>:4: UserWarning: /content/drive/MyDrive/Data_sets/PETR/Spill_Data/results/1_predict.tif is a low contrast image\n",
            "  io.imsave(os.path.join(save_path, \"%d_predict.tif\" % i), img_as_uint(img))\n",
            "<ipython-input-77-e6a539a76b74>:4: UserWarning: /content/drive/MyDrive/Data_sets/PETR/Spill_Data/results/2_predict.tif is a low contrast image\n",
            "  io.imsave(os.path.join(save_path, \"%d_predict.tif\" % i), img_as_uint(img))\n",
            "<ipython-input-77-e6a539a76b74>:4: UserWarning: /content/drive/MyDrive/Data_sets/PETR/Spill_Data/results/3_predict.tif is a low contrast image\n",
            "  io.imsave(os.path.join(save_path, \"%d_predict.tif\" % i), img_as_uint(img))\n",
            "<ipython-input-77-e6a539a76b74>:4: UserWarning: /content/drive/MyDrive/Data_sets/PETR/Spill_Data/results/4_predict.tif is a low contrast image\n",
            "  io.imsave(os.path.join(save_path, \"%d_predict.tif\" % i), img_as_uint(img))\n",
            "<ipython-input-77-e6a539a76b74>:4: UserWarning: /content/drive/MyDrive/Data_sets/PETR/Spill_Data/results/5_predict.tif is a low contrast image\n",
            "  io.imsave(os.path.join(save_path, \"%d_predict.tif\" % i), img_as_uint(img))\n",
            "<ipython-input-77-e6a539a76b74>:4: UserWarning: /content/drive/MyDrive/Data_sets/PETR/Spill_Data/results/6_predict.tif is a low contrast image\n",
            "  io.imsave(os.path.join(save_path, \"%d_predict.tif\" % i), img_as_uint(img))\n",
            "<ipython-input-77-e6a539a76b74>:4: UserWarning: /content/drive/MyDrive/Data_sets/PETR/Spill_Data/results/7_predict.tif is a low contrast image\n",
            "  io.imsave(os.path.join(save_path, \"%d_predict.tif\" % i), img_as_uint(img))\n",
            "<ipython-input-77-e6a539a76b74>:4: UserWarning: /content/drive/MyDrive/Data_sets/PETR/Spill_Data/results/8_predict.tif is a low contrast image\n",
            "  io.imsave(os.path.join(save_path, \"%d_predict.tif\" % i), img_as_uint(img))\n",
            "<ipython-input-77-e6a539a76b74>:4: UserWarning: /content/drive/MyDrive/Data_sets/PETR/Spill_Data/results/9_predict.tif is a low contrast image\n",
            "  io.imsave(os.path.join(save_path, \"%d_predict.tif\" % i), img_as_uint(img))\n",
            "<ipython-input-77-e6a539a76b74>:4: UserWarning: /content/drive/MyDrive/Data_sets/PETR/Spill_Data/results/10_predict.tif is a low contrast image\n",
            "  io.imsave(os.path.join(save_path, \"%d_predict.tif\" % i), img_as_uint(img))\n",
            "<ipython-input-77-e6a539a76b74>:4: UserWarning: /content/drive/MyDrive/Data_sets/PETR/Spill_Data/results/11_predict.tif is a low contrast image\n",
            "  io.imsave(os.path.join(save_path, \"%d_predict.tif\" % i), img_as_uint(img))\n",
            "<ipython-input-77-e6a539a76b74>:4: UserWarning: /content/drive/MyDrive/Data_sets/PETR/Spill_Data/results/12_predict.tif is a low contrast image\n",
            "  io.imsave(os.path.join(save_path, \"%d_predict.tif\" % i), img_as_uint(img))\n",
            "<ipython-input-77-e6a539a76b74>:4: UserWarning: /content/drive/MyDrive/Data_sets/PETR/Spill_Data/results/13_predict.tif is a low contrast image\n",
            "  io.imsave(os.path.join(save_path, \"%d_predict.tif\" % i), img_as_uint(img))\n",
            "<ipython-input-77-e6a539a76b74>:4: UserWarning: /content/drive/MyDrive/Data_sets/PETR/Spill_Data/results/14_predict.tif is a low contrast image\n",
            "  io.imsave(os.path.join(save_path, \"%d_predict.tif\" % i), img_as_uint(img))\n",
            "<ipython-input-77-e6a539a76b74>:4: UserWarning: /content/drive/MyDrive/Data_sets/PETR/Spill_Data/results/15_predict.tif is a low contrast image\n",
            "  io.imsave(os.path.join(save_path, \"%d_predict.tif\" % i), img_as_uint(img))\n",
            "<ipython-input-77-e6a539a76b74>:4: UserWarning: /content/drive/MyDrive/Data_sets/PETR/Spill_Data/results/16_predict.tif is a low contrast image\n",
            "  io.imsave(os.path.join(save_path, \"%d_predict.tif\" % i), img_as_uint(img))\n",
            "<ipython-input-77-e6a539a76b74>:4: UserWarning: /content/drive/MyDrive/Data_sets/PETR/Spill_Data/results/17_predict.tif is a low contrast image\n",
            "  io.imsave(os.path.join(save_path, \"%d_predict.tif\" % i), img_as_uint(img))\n",
            "<ipython-input-77-e6a539a76b74>:4: UserWarning: /content/drive/MyDrive/Data_sets/PETR/Spill_Data/results/18_predict.tif is a low contrast image\n",
            "  io.imsave(os.path.join(save_path, \"%d_predict.tif\" % i), img_as_uint(img))\n",
            "<ipython-input-77-e6a539a76b74>:4: UserWarning: /content/drive/MyDrive/Data_sets/PETR/Spill_Data/results/19_predict.tif is a low contrast image\n",
            "  io.imsave(os.path.join(save_path, \"%d_predict.tif\" % i), img_as_uint(img))\n",
            "<ipython-input-77-e6a539a76b74>:4: UserWarning: /content/drive/MyDrive/Data_sets/PETR/Spill_Data/results/20_predict.tif is a low contrast image\n",
            "  io.imsave(os.path.join(save_path, \"%d_predict.tif\" % i), img_as_uint(img))\n",
            "<ipython-input-77-e6a539a76b74>:4: UserWarning: /content/drive/MyDrive/Data_sets/PETR/Spill_Data/results/21_predict.tif is a low contrast image\n",
            "  io.imsave(os.path.join(save_path, \"%d_predict.tif\" % i), img_as_uint(img))\n",
            "<ipython-input-77-e6a539a76b74>:4: UserWarning: /content/drive/MyDrive/Data_sets/PETR/Spill_Data/results/22_predict.tif is a low contrast image\n",
            "  io.imsave(os.path.join(save_path, \"%d_predict.tif\" % i), img_as_uint(img))\n",
            "<ipython-input-77-e6a539a76b74>:4: UserWarning: /content/drive/MyDrive/Data_sets/PETR/Spill_Data/results/23_predict.tif is a low contrast image\n",
            "  io.imsave(os.path.join(save_path, \"%d_predict.tif\" % i), img_as_uint(img))\n",
            "<ipython-input-77-e6a539a76b74>:4: UserWarning: /content/drive/MyDrive/Data_sets/PETR/Spill_Data/results/24_predict.tif is a low contrast image\n",
            "  io.imsave(os.path.join(save_path, \"%d_predict.tif\" % i), img_as_uint(img))\n",
            "<ipython-input-77-e6a539a76b74>:4: UserWarning: /content/drive/MyDrive/Data_sets/PETR/Spill_Data/results/25_predict.tif is a low contrast image\n",
            "  io.imsave(os.path.join(save_path, \"%d_predict.tif\" % i), img_as_uint(img))\n",
            "<ipython-input-77-e6a539a76b74>:4: UserWarning: /content/drive/MyDrive/Data_sets/PETR/Spill_Data/results/26_predict.tif is a low contrast image\n",
            "  io.imsave(os.path.join(save_path, \"%d_predict.tif\" % i), img_as_uint(img))\n",
            "<ipython-input-77-e6a539a76b74>:4: UserWarning: /content/drive/MyDrive/Data_sets/PETR/Spill_Data/results/27_predict.tif is a low contrast image\n",
            "  io.imsave(os.path.join(save_path, \"%d_predict.tif\" % i), img_as_uint(img))\n",
            "<ipython-input-77-e6a539a76b74>:4: UserWarning: /content/drive/MyDrive/Data_sets/PETR/Spill_Data/results/28_predict.tif is a low contrast image\n",
            "  io.imsave(os.path.join(save_path, \"%d_predict.tif\" % i), img_as_uint(img))\n",
            "<ipython-input-77-e6a539a76b74>:4: UserWarning: /content/drive/MyDrive/Data_sets/PETR/Spill_Data/results/29_predict.tif is a low contrast image\n",
            "  io.imsave(os.path.join(save_path, \"%d_predict.tif\" % i), img_as_uint(img))\n"
          ]
        }
      ],
      "source": [
        "testGene = testGenerator(\"/content/drive/MyDrive/Data_sets/PETR/Spill_Data/Test_2/*\")\n",
        "model = unet()\n",
        "model.load_weights(\"unet_oilspill.hdf5\")\n",
        "results = model.predict_generator(testGene,30,verbose=1)\n",
        "saveResult(\"/content/drive/MyDrive/Data_sets/PETR/Spill_Data/results/\",results)"
      ]
    },
    {
      "cell_type": "code",
      "source": [
        "model.summary()"
      ],
      "metadata": {
        "colab": {
          "base_uri": "https://localhost:8080/"
        },
        "id": "TG_resihUMN6",
        "outputId": "d611bff2-222c-41a2-c1a9-f533abe2ae36"
      },
      "execution_count": 112,
      "outputs": [
        {
          "output_type": "stream",
          "name": "stdout",
          "text": [
            "Model: \"model_12\"\n",
            "__________________________________________________________________________________________________\n",
            " Layer (type)                   Output Shape         Param #     Connected to                     \n",
            "==================================================================================================\n",
            " input_13 (InputLayer)          [(None, 256, 256, 1  0           []                               \n",
            "                                )]                                                                \n",
            "                                                                                                  \n",
            " conv2d_288 (Conv2D)            (None, 256, 256, 64  640         ['input_13[0][0]']               \n",
            "                                )                                                                 \n",
            "                                                                                                  \n",
            " conv2d_289 (Conv2D)            (None, 256, 256, 64  36928       ['conv2d_288[0][0]']             \n",
            "                                )                                                                 \n",
            "                                                                                                  \n",
            " max_pooling2d_48 (MaxPooling2D  (None, 128, 128, 64  0          ['conv2d_289[0][0]']             \n",
            " )                              )                                                                 \n",
            "                                                                                                  \n",
            " conv2d_290 (Conv2D)            (None, 128, 128, 12  73856       ['max_pooling2d_48[0][0]']       \n",
            "                                8)                                                                \n",
            "                                                                                                  \n",
            " conv2d_291 (Conv2D)            (None, 128, 128, 12  147584      ['conv2d_290[0][0]']             \n",
            "                                8)                                                                \n",
            "                                                                                                  \n",
            " max_pooling2d_49 (MaxPooling2D  (None, 64, 64, 128)  0          ['conv2d_291[0][0]']             \n",
            " )                                                                                                \n",
            "                                                                                                  \n",
            " conv2d_292 (Conv2D)            (None, 64, 64, 256)  295168      ['max_pooling2d_49[0][0]']       \n",
            "                                                                                                  \n",
            " conv2d_293 (Conv2D)            (None, 64, 64, 256)  590080      ['conv2d_292[0][0]']             \n",
            "                                                                                                  \n",
            " max_pooling2d_50 (MaxPooling2D  (None, 32, 32, 256)  0          ['conv2d_293[0][0]']             \n",
            " )                                                                                                \n",
            "                                                                                                  \n",
            " conv2d_294 (Conv2D)            (None, 32, 32, 512)  1180160     ['max_pooling2d_50[0][0]']       \n",
            "                                                                                                  \n",
            " conv2d_295 (Conv2D)            (None, 32, 32, 512)  2359808     ['conv2d_294[0][0]']             \n",
            "                                                                                                  \n",
            " dropout_24 (Dropout)           (None, 32, 32, 512)  0           ['conv2d_295[0][0]']             \n",
            "                                                                                                  \n",
            " max_pooling2d_51 (MaxPooling2D  (None, 16, 16, 512)  0          ['dropout_24[0][0]']             \n",
            " )                                                                                                \n",
            "                                                                                                  \n",
            " conv2d_296 (Conv2D)            (None, 16, 16, 1024  4719616     ['max_pooling2d_51[0][0]']       \n",
            "                                )                                                                 \n",
            "                                                                                                  \n",
            " conv2d_297 (Conv2D)            (None, 16, 16, 1024  9438208     ['conv2d_296[0][0]']             \n",
            "                                )                                                                 \n",
            "                                                                                                  \n",
            " dropout_25 (Dropout)           (None, 16, 16, 1024  0           ['conv2d_297[0][0]']             \n",
            "                                )                                                                 \n",
            "                                                                                                  \n",
            " up_sampling2d_48 (UpSampling2D  (None, 32, 32, 1024  0          ['dropout_25[0][0]']             \n",
            " )                              )                                                                 \n",
            "                                                                                                  \n",
            " conv2d_298 (Conv2D)            (None, 32, 32, 512)  2097664     ['up_sampling2d_48[0][0]']       \n",
            "                                                                                                  \n",
            " concatenate_48 (Concatenate)   (None, 32, 32, 1024  0           ['dropout_24[0][0]',             \n",
            "                                )                                 'conv2d_298[0][0]']             \n",
            "                                                                                                  \n",
            " conv2d_299 (Conv2D)            (None, 32, 32, 512)  4719104     ['concatenate_48[0][0]']         \n",
            "                                                                                                  \n",
            " conv2d_300 (Conv2D)            (None, 32, 32, 512)  2359808     ['conv2d_299[0][0]']             \n",
            "                                                                                                  \n",
            " up_sampling2d_49 (UpSampling2D  (None, 64, 64, 512)  0          ['conv2d_300[0][0]']             \n",
            " )                                                                                                \n",
            "                                                                                                  \n",
            " conv2d_301 (Conv2D)            (None, 64, 64, 256)  524544      ['up_sampling2d_49[0][0]']       \n",
            "                                                                                                  \n",
            " concatenate_49 (Concatenate)   (None, 64, 64, 512)  0           ['conv2d_293[0][0]',             \n",
            "                                                                  'conv2d_301[0][0]']             \n",
            "                                                                                                  \n",
            " conv2d_302 (Conv2D)            (None, 64, 64, 256)  1179904     ['concatenate_49[0][0]']         \n",
            "                                                                                                  \n",
            " conv2d_303 (Conv2D)            (None, 64, 64, 256)  590080      ['conv2d_302[0][0]']             \n",
            "                                                                                                  \n",
            " up_sampling2d_50 (UpSampling2D  (None, 128, 128, 25  0          ['conv2d_303[0][0]']             \n",
            " )                              6)                                                                \n",
            "                                                                                                  \n",
            " conv2d_304 (Conv2D)            (None, 128, 128, 12  131200      ['up_sampling2d_50[0][0]']       \n",
            "                                8)                                                                \n",
            "                                                                                                  \n",
            " concatenate_50 (Concatenate)   (None, 128, 128, 25  0           ['conv2d_291[0][0]',             \n",
            "                                6)                                'conv2d_304[0][0]']             \n",
            "                                                                                                  \n",
            " conv2d_305 (Conv2D)            (None, 128, 128, 12  295040      ['concatenate_50[0][0]']         \n",
            "                                8)                                                                \n",
            "                                                                                                  \n",
            " conv2d_306 (Conv2D)            (None, 128, 128, 12  147584      ['conv2d_305[0][0]']             \n",
            "                                8)                                                                \n",
            "                                                                                                  \n",
            " up_sampling2d_51 (UpSampling2D  (None, 256, 256, 12  0          ['conv2d_306[0][0]']             \n",
            " )                              8)                                                                \n",
            "                                                                                                  \n",
            " conv2d_307 (Conv2D)            (None, 256, 256, 64  32832       ['up_sampling2d_51[0][0]']       \n",
            "                                )                                                                 \n",
            "                                                                                                  \n",
            " concatenate_51 (Concatenate)   (None, 256, 256, 12  0           ['conv2d_289[0][0]',             \n",
            "                                8)                                'conv2d_307[0][0]']             \n",
            "                                                                                                  \n",
            " conv2d_308 (Conv2D)            (None, 256, 256, 64  73792       ['concatenate_51[0][0]']         \n",
            "                                )                                                                 \n",
            "                                                                                                  \n",
            " conv2d_309 (Conv2D)            (None, 256, 256, 64  36928       ['conv2d_308[0][0]']             \n",
            "                                )                                                                 \n",
            "                                                                                                  \n",
            " conv2d_310 (Conv2D)            (None, 256, 256, 2)  1154        ['conv2d_309[0][0]']             \n",
            "                                                                                                  \n",
            " conv2d_311 (Conv2D)            (None, 256, 256, 1)  3           ['conv2d_310[0][0]']             \n",
            "                                                                                                  \n",
            "==================================================================================================\n",
            "Total params: 31,031,685\n",
            "Trainable params: 31,031,685\n",
            "Non-trainable params: 0\n",
            "__________________________________________________________________________________________________\n"
          ]
        }
      ]
    },
    {
      "cell_type": "code",
      "source": [
        "plt.figure(1)\n",
        "plt.plot(history.history['accuracy'])\n",
        "plt.plot(history.history['val_accuracy'],color='r')\n",
        "plt.title('model accuracy')\n",
        "plt.ylabel('accuracy')\n",
        "plt.xlabel('steps_per_epochs')\n",
        "plt.legend(['training_acc'], loc=\"upper left\")\n",
        "plt.show()\n",
        "\n",
        "plt.figure(2)\n",
        "plt.plot(history.history['mean_io_u_14'])\n",
        "plt.title('model iou obtained')\n",
        "plt.ylabel('iou')\n",
        "plt.xlabel('epochs')\n",
        "plt.legend(['training_iou'], loc=\"upper left\")\n",
        "plt.show()\n",
        "\n",
        "plt.figure(3)\n",
        "plt.plot(history.history['loss1'])\n",
        "plt.plot(history.history['val_loss'],color='r')\n",
        "plt.title('loss during training')\n",
        "plt.ylabel('loss')\n",
        "plt.xlabel('epochs')\n",
        "plt.legend(['training_loss'], loc=\"upper left\")\n",
        "plt.show()"
      ],
      "metadata": {
        "colab": {
          "base_uri": "https://localhost:8080/",
          "height": 1000
        },
        "id": "hB1FHpupBNTL",
        "outputId": "73385a26-d175-44dc-bb64-7b9310832742"
      },
      "execution_count": 124,
      "outputs": [
        {
          "output_type": "display_data",
          "data": {
            "text/plain": [
              "<Figure size 640x480 with 1 Axes>"
            ],
            "image/png": "[encoded data removed]"
          },
          "metadata": {}
        },
        {
          "output_type": "display_data",
          "data": {
            "text/plain": [
              "<Figure size 640x480 with 1 Axes>"
            ],
            "image/png": "[encoded data removed]"
          },
          "metadata": {}
        },
        {
          "output_type": "display_data",
          "data": {
            "text/plain": [
              "<Figure size 640x480 with 1 Axes>"
            ],
            "image/png": "[encoded data removed]"
          },
          "metadata": {}
        }
      ]
    },
    {
      "cell_type": "code",
      "source": [],
      "metadata": {
        "id": "p7mLbbXPTyQt"
      },
      "execution_count": null,
      "outputs": []
    }
  ],
  "metadata": {
    "kernelspec": {
      "display_name": "Python 3 (ipykernel)",
      "language": "python",
      "name": "python3"
    },
    "language_info": {
      "codemirror_mode": {
        "name": "ipython",
        "version": 3
      },
      "file_extension": ".py",
      "mimetype": "text/x-python",
      "name": "python",
      "nbconvert_exporter": "python",
      "pygments_lexer": "ipython3",
      "version": "3.9.13"
    },
    "colab": {
      "provenance": []
    }
  },
  "nbformat": 4,
  "nbformat_minor": 0
}