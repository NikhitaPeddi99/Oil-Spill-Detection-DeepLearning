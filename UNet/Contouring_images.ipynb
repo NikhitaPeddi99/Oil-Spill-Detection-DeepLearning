{
  "cells": [
    {
      "cell_type": "code",
      "execution_count": 1,
      "id": "31cd4bce",
      "metadata": {
        "id": "31cd4bce"
      },
      "outputs": [],
      "source": [
        "#!pip install opencv-python opencv-python-headless\n",
        "import cv2\n",
        "import numpy as np\n",
        "import glob\n",
        "import os"
      ]
    },
    {
      "cell_type": "code",
      "source": [
        "from google.colab import drive\n",
        "drive.mount('/content/drive')"
      ],
      "metadata": {
        "colab": {
          "base_uri": "https://localhost:8080/"
        },
        "id": "_yZrNR_Z3E-J",
        "outputId": "068b548f-163d-4bfa-e1a6-97996dc7b3ae"
      },
      "id": "_yZrNR_Z3E-J",
      "execution_count": 2,
      "outputs": [
        {
          "output_type": "stream",
          "name": "stdout",
          "text": [
            "Mounted at /content/drive\n"
          ]
        }
      ]
    },
    {
      "cell_type": "code",
      "execution_count": 10,
      "id": "f13d8cad",
      "metadata": {
        "id": "f13d8cad"
      },
      "outputs": [],
      "source": [
        "TRAIN_PATH = \"/content/drive/MyDrive/Data_sets/PETR/Spill_Data/Train/NoSpill/*\"\n",
        "TEST_PATH = \"/content/drive/MyDrive/Data_sets/PETR/Spill_Data/Test/NoSpill/*\"\n",
        "output_train = \"/content/drive/MyDrive/Data_sets/PETR/Spill_Data/_mask_train_/NoSpill/\"\n",
        "output_test = \"/content/drive/MyDrive/Data_sets/PETR/Spill_Data/_mask_test_/NoSpill/\""
      ]
    },
    {
      "cell_type": "code",
      "source": [
        "folder_path=TRAIN_PATH.split(\"*\")\n",
        "num_files = len([f for f in os.listdir(folder_path[0]) if os.path.isfile(os.path.join(folder_path[0], f))])\n",
        "print(f'There are {num_files} files in the folder.')"
      ],
      "metadata": {
        "colab": {
          "base_uri": "https://localhost:8080/"
        },
        "id": "0nOS0IYD_fdg",
        "outputId": "2d36401f-0592-482d-f24f-8232ff926d6f"
      },
      "id": "0nOS0IYD_fdg",
      "execution_count": 11,
      "outputs": [
        {
          "output_type": "stream",
          "name": "stdout",
          "text": [
            "There are 132 files in the folder.\n"
          ]
        }
      ]
    },
    {
      "cell_type": "code",
      "execution_count": 12,
      "id": "4c9fe2f0",
      "metadata": {
        "id": "4c9fe2f0"
      },
      "outputs": [],
      "source": [
        "def Countouring_Images(IMAGES_PATH,output):\n",
        "  count=0\n",
        "  for filename in glob.glob(IMAGES_PATH):\n",
        "      #print(filename)\n",
        "      image = cv2.imread(filename)\n",
        "      image_gray = cv2.cvtColor(image, cv2.COLOR_BGR2GRAY)\n",
        "      thresh, image_edges = cv2.threshold(image_gray, 100, 225, cv2.THRESH_BINARY)\n",
        "      canvas = np.zeros(image.shape, np.uint8)\n",
        "      canvas.fill(255)\n",
        "      contours_draw, hierarchy = cv2.findContours(image_edges, cv2.RETR_LIST, cv2.CHAIN_APPROX_NONE)\n",
        "      img = cv2.drawContours(canvas, contours_draw, -1, (0, 0, 0), 3)\n",
        "\n",
        "      # Write the output image to disk\n",
        "      output_path = os.path.join(output ,\"_mask_\"+os.path.basename(filename))\n",
        "      cv2.imwrite(output_path, img)\n",
        "\n",
        "      #print(new_file)\n",
        "      count=count+1\n",
        "      cv2.imwrite(output_path,img)\n",
        "  print(\"Total contoured images=\",count)"
      ]
    },
    {
      "cell_type": "code",
      "source": [
        "Countouring_Images(TRAIN_PATH,output_train)"
      ],
      "metadata": {
        "colab": {
          "base_uri": "https://localhost:8080/"
        },
        "id": "UQhHNZjuGYIw",
        "outputId": "83f2a0f6-bbe7-47b1-e630-788ed97d82fa"
      },
      "id": "UQhHNZjuGYIw",
      "execution_count": 13,
      "outputs": [
        {
          "output_type": "stream",
          "name": "stdout",
          "text": [
            "Total contoured images= 132\n"
          ]
        }
      ]
    },
    {
      "cell_type": "code",
      "source": [
        "Countouring_Images(TEST_PATH,output_test)"
      ],
      "metadata": {
        "colab": {
          "base_uri": "https://localhost:8080/"
        },
        "id": "ml-tcL7iGgO-",
        "outputId": "ca300bb2-70b2-4c2e-945b-60fb8c7a210e"
      },
      "id": "ml-tcL7iGgO-",
      "execution_count": 14,
      "outputs": [
        {
          "output_type": "stream",
          "name": "stdout",
          "text": [
            "Total contoured images= 42\n"
          ]
        }
      ]
    },
    {
      "cell_type": "code",
      "source": [
        "cv2_imshow(cv2.imread(\"/content/drive/MyDrive/Data_sets/PETR/Spill_Data/_mask_test_/Oilspill/_mask_Oilspill_085.jpg\"))"
      ],
      "metadata": {
        "colab": {
          "base_uri": "https://localhost:8080/",
          "height": 191
        },
        "id": "N7F769ClCQO_",
        "outputId": "6f58af1a-242d-40be-dd07-8ff384c9e62c"
      },
      "id": "N7F769ClCQO_",
      "execution_count": 16,
      "outputs": [
        {
          "output_type": "display_data",
          "data": {
            "text/plain": [
              "<PIL.Image.Image image mode=RGB size=290x174 at 0x7FB880770D30>"
            ],
            "image/png": "[encoded data removed]"
          },
          "metadata": {}
        }
      ]
    },
    {
      "cell_type": "code",
      "source": [],
      "metadata": {
        "id": "6FkjOdAaHMUx"
      },
      "id": "6FkjOdAaHMUx",
      "execution_count": null,
      "outputs": []
    }
  ],
  "metadata": {
    "kernelspec": {
      "display_name": "Python 3 (ipykernel)",
      "language": "python",
      "name": "python3"
    },
    "language_info": {
      "codemirror_mode": {
        "name": "ipython",
        "version": 3
      },
      "file_extension": ".py",
      "mimetype": "text/x-python",
      "name": "python",
      "nbconvert_exporter": "python",
      "pygments_lexer": "ipython3",
      "version": "3.9.13"
    },
    "colab": {
      "provenance": []
    }
  },
  "nbformat": 4,
  "nbformat_minor": 5
}