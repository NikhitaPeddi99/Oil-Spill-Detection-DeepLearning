{
 "cells": [
  {
   "cell_type": "markdown",
   "metadata": {},
   "source": [
    "Importing libraries"
   ]
  },
  {
   "cell_type": "code",
   "execution_count": null,
   "metadata": {
    "id": "H5aOBwOL-4Si"
   },
   "outputs": [],
   "source": [
    "import numpy as np\n",
    "import tensorflow as tf\n",
    "import matplotlib.pyplot as plt"
   ]
  },
  {
   "cell_type": "code",
   "execution_count": null,
   "metadata": {
    "colab": {
     "base_uri": "https://localhost:8080/"
    },
    "id": "aeu23Y4__L0L",
    "outputId": "36136853-e7c9-4d39-ce9b-7162f31eef7b"
   },
   "outputs": [
    {
     "name": "stdout",
     "output_type": "stream",
     "text": [
      "Drive already mounted at /content/drive; to attempt to forcibly remount, call drive.mount(\"/content/drive\", force_remount=True).\n"
     ]
    }
   ],
   "source": [
    "from google.colab import drive\n",
    "drive.mount('/content/drive')"
   ]
  },
  {
   "cell_type": "markdown",
   "metadata": {},
   "source": [
    "#Data preprocessing\n",
    "\n",
    "#Training Image preprocessing"
   ]
  },
  {
   "cell_type": "markdown",
   "metadata": {
    "id": "RoyDqGsf--mX"
   },
   "source": [
    "# New Section"
   ]
  },
  {
   "cell_type": "code",
   "execution_count": null,
   "metadata": {
    "colab": {
     "base_uri": "https://localhost:8080/"
    },
    "id": "4HXFSlen_TFF",
    "outputId": "c394fd5c-17c2-4d6b-9b8c-d2f30b0b7e12"
   },
   "outputs": [
    {
     "name": "stdout",
     "output_type": "stream",
     "text": [
      "Found 274 files belonging to 2 classes.\n"
     ]
    }
   ],
   "source": [
    "training_set = tf.keras.utils.image_dataset_from_directory(\n",
    "    '/content/drive/MyDrive/spill_no-spill classification/Train',\n",
    "    labels=\"inferred\",\n",
    "    label_mode=\"categorical\",\n",
    "    class_names=None,\n",
    "    color_mode=\"rgb\",\n",
    "    batch_size=32,\n",
    "    image_size=(64, 64),\n",
    "    shuffle=True,\n",
    "    seed=None,\n",
    "    validation_split=None,\n",
    "    subset=None,\n",
    "    interpolation=\"bilinear\",\n",
    "    follow_links=False,\n",
    "    crop_to_aspect_ratio=False\n",
    ")"
   ]
  },
  {
   "cell_type": "markdown",
   "metadata": {},
   "source": [
    "#Validation Image preprocessing"
   ]
  },
  {
   "cell_type": "code",
   "execution_count": null,
   "metadata": {
    "colab": {
     "base_uri": "https://localhost:8080/"
    },
    "id": "AQ0ctvIL_TH1",
    "outputId": "fe0deeae-b35f-4c79-82cf-9e67f0e245ae"
   },
   "outputs": [
    {
     "name": "stdout",
     "output_type": "stream",
     "text": [
      "Found 41 files belonging to 2 classes.\n"
     ]
    }
   ],
   "source": [
    "validation_set = tf.keras.utils.image_dataset_from_directory(\n",
    "    '/content/drive/MyDrive/spill_no-spill classification/Validation',\n",
    "    labels=\"inferred\",\n",
    "    label_mode=\"categorical\",\n",
    "    class_names=None,\n",
    "    color_mode=\"rgb\",\n",
    "    batch_size=32,\n",
    "    image_size=(64, 64),\n",
    "    shuffle=True,\n",
    "    seed=None,\n",
    "    validation_split=None,\n",
    "    subset=None,\n",
    "    interpolation=\"bilinear\",\n",
    "    follow_links=False,\n",
    "    crop_to_aspect_ratio=False\n",
    ")"
   ]
  },
  {
   "cell_type": "code",
   "execution_count": null,
   "metadata": {
    "id": "Ae0D_XU0_TKf"
   },
   "outputs": [],
   "source": [
    "cnn =tf.keras.models.Sequential()"
   ]
  },
  {
   "cell_type": "code",
   "execution_count": null,
   "metadata": {
    "id": "BF6PXZr0_TNO"
   },
   "outputs": [],
   "source": [
    "cnn.add(tf.keras.layers.Conv2D(filters=64,kernel_size=3,activation='relu',input_shape=[64,64,3]))\n",
    "cnn.add(tf.keras.layers.MaxPool2D(pool_size=2,strides=2))"
   ]
  },
  {
   "cell_type": "code",
   "execution_count": null,
   "metadata": {
    "id": "elY3gcvX_TQP"
   },
   "outputs": [],
   "source": [
    "cnn.add(tf.keras.layers.Conv2D(filters=64,kernel_size=3,activation='relu'))\n",
    "cnn.add(tf.keras.layers.MaxPool2D(pool_size=2,strides=2))"
   ]
  },
  {
   "cell_type": "code",
   "execution_count": null,
   "metadata": {
    "id": "nNa2YvyuADqi"
   },
   "outputs": [],
   "source": [
    "cnn.add(tf.keras.layers.Dropout(0.5))"
   ]
  },
  {
   "cell_type": "code",
   "execution_count": null,
   "metadata": {
    "id": "8AgfYrEKAGYp"
   },
   "outputs": [],
   "source": [
    "cnn.add(tf.keras.layers.Flatten())"
   ]
  },
  {
   "cell_type": "code",
   "execution_count": null,
   "metadata": {
    "id": "GU5zCLjPAIib"
   },
   "outputs": [],
   "source": [
    "cnn.add(tf.keras.layers.Dense(units=128,activation='relu'))"
   ]
  },
  {
   "cell_type": "code",
   "execution_count": null,
   "metadata": {
    "id": "WiY8lQY8AMml"
   },
   "outputs": [],
   "source": [
    "cnn.add(tf.keras.layers.Dense(units=2,activation='softmax'))"
   ]
  },
  {
   "cell_type": "code",
   "execution_count": null,
   "metadata": {
    "id": "aGJ5FAwUAQT1"
   },
   "outputs": [],
   "source": [
    "cnn.compile(optimizer='rmsprop',loss='categorical_crossentropy',metrics=['accuracy'])"
   ]
  },
  {
   "cell_type": "code",
   "execution_count": null,
   "metadata": {
    "colab": {
     "base_uri": "https://localhost:8080/"
    },
    "id": "0vNU21oBAU0-",
    "outputId": "3de13182-fe76-458c-e71a-12ab81eadaaf"
   },
   "outputs": [
    {
     "name": "stdout",
     "output_type": "stream",
     "text": [
      "Epoch 1/30\n",
      "9/9 [==============================] - 32s 991ms/step - loss: 183.7023 - accuracy: 0.5219 - val_loss: 0.6948 - val_accuracy: 0.2195\n",
      "Epoch 2/30\n",
      "9/9 [==============================] - 4s 369ms/step - loss: 0.8183 - accuracy: 0.5328 - val_loss: 0.6637 - val_accuracy: 0.8537\n",
      "Epoch 3/30\n",
      "9/9 [==============================] - 5s 485ms/step - loss: 0.6905 - accuracy: 0.6131 - val_loss: 0.6828 - val_accuracy: 0.5854\n",
      "Epoch 4/30\n",
      "9/9 [==============================] - 4s 368ms/step - loss: 0.6562 - accuracy: 0.7263 - val_loss: 0.4528 - val_accuracy: 0.8537\n",
      "Epoch 5/30\n",
      "9/9 [==============================] - 4s 352ms/step - loss: 0.6937 - accuracy: 0.6095 - val_loss: 0.5114 - val_accuracy: 0.8049\n",
      "Epoch 6/30\n",
      "9/9 [==============================] - 5s 471ms/step - loss: 1.0451 - accuracy: 0.6642 - val_loss: 1.0147 - val_accuracy: 0.8049\n",
      "Epoch 7/30\n",
      "9/9 [==============================] - 4s 354ms/step - loss: 0.8562 - accuracy: 0.6533 - val_loss: 0.4511 - val_accuracy: 0.9024\n",
      "Epoch 8/30\n",
      "9/9 [==============================] - 3s 333ms/step - loss: 0.6194 - accuracy: 0.7555 - val_loss: 0.3673 - val_accuracy: 0.8780\n",
      "Epoch 9/30\n",
      "9/9 [==============================] - 5s 526ms/step - loss: 0.8245 - accuracy: 0.6679 - val_loss: 4.6583 - val_accuracy: 0.8049\n",
      "Epoch 10/30\n",
      "9/9 [==============================] - 4s 390ms/step - loss: 2.4301 - accuracy: 0.5803 - val_loss: 0.7146 - val_accuracy: 0.1951\n",
      "Epoch 11/30\n",
      "9/9 [==============================] - 3s 330ms/step - loss: 1.2356 - accuracy: 0.6387 - val_loss: 1.3505 - val_accuracy: 0.4878\n",
      "Epoch 12/30\n",
      "9/9 [==============================] - 5s 498ms/step - loss: 0.7980 - accuracy: 0.6971 - val_loss: 0.4779 - val_accuracy: 0.8293\n",
      "Epoch 13/30\n",
      "9/9 [==============================] - 4s 397ms/step - loss: 0.6651 - accuracy: 0.7993 - val_loss: 0.4202 - val_accuracy: 0.8537\n",
      "Epoch 14/30\n",
      "9/9 [==============================] - 3s 349ms/step - loss: 1.0606 - accuracy: 0.7153 - val_loss: 0.4292 - val_accuracy: 0.8537\n",
      "Epoch 15/30\n",
      "9/9 [==============================] - 3s 340ms/step - loss: 0.4370 - accuracy: 0.8504 - val_loss: 1.5886 - val_accuracy: 0.3659\n",
      "Epoch 16/30\n",
      "9/9 [==============================] - 5s 441ms/step - loss: 0.7117 - accuracy: 0.7737 - val_loss: 0.8661 - val_accuracy: 0.8049\n",
      "Epoch 17/30\n",
      "9/9 [==============================] - 3s 345ms/step - loss: 0.5884 - accuracy: 0.8577 - val_loss: 0.2767 - val_accuracy: 0.8780\n",
      "Epoch 18/30\n",
      "9/9 [==============================] - 3s 332ms/step - loss: 0.3530 - accuracy: 0.8650 - val_loss: 0.2103 - val_accuracy: 0.9268\n",
      "Epoch 19/30\n",
      "9/9 [==============================] - 6s 608ms/step - loss: 0.2772 - accuracy: 0.8832 - val_loss: 0.2661 - val_accuracy: 0.8537\n",
      "Epoch 20/30\n",
      "9/9 [==============================] - 3s 335ms/step - loss: 0.3076 - accuracy: 0.8577 - val_loss: 0.4490 - val_accuracy: 0.7073\n",
      "Epoch 21/30\n",
      "9/9 [==============================] - 6s 602ms/step - loss: 0.9050 - accuracy: 0.7810 - val_loss: 0.3154 - val_accuracy: 0.8537\n",
      "Epoch 22/30\n",
      "9/9 [==============================] - 3s 342ms/step - loss: 0.3939 - accuracy: 0.8540 - val_loss: 0.2693 - val_accuracy: 0.8537\n",
      "Epoch 23/30\n",
      "9/9 [==============================] - 5s 579ms/step - loss: 0.2387 - accuracy: 0.8942 - val_loss: 0.3683 - val_accuracy: 0.9024\n",
      "Epoch 24/30\n",
      "9/9 [==============================] - 4s 356ms/step - loss: 0.3120 - accuracy: 0.8723 - val_loss: 0.9658 - val_accuracy: 0.8780\n",
      "Epoch 25/30\n",
      "9/9 [==============================] - 4s 451ms/step - loss: 0.7578 - accuracy: 0.7774 - val_loss: 0.4061 - val_accuracy: 0.7805\n",
      "Epoch 26/30\n",
      "9/9 [==============================] - 5s 503ms/step - loss: 0.2196 - accuracy: 0.9270 - val_loss: 12.3059 - val_accuracy: 0.1951\n",
      "Epoch 27/30\n",
      "9/9 [==============================] - 3s 336ms/step - loss: 1.9199 - accuracy: 0.7956 - val_loss: 0.4658 - val_accuracy: 0.8293\n",
      "Epoch 28/30\n",
      "9/9 [==============================] - 5s 560ms/step - loss: 0.3056 - accuracy: 0.8978 - val_loss: 0.0979 - val_accuracy: 0.9756\n",
      "Epoch 29/30\n",
      "9/9 [==============================] - 3s 341ms/step - loss: 0.2362 - accuracy: 0.9307 - val_loss: 0.3342 - val_accuracy: 0.9024\n",
      "Epoch 30/30\n",
      "9/9 [==============================] - 6s 601ms/step - loss: 0.3819 - accuracy: 0.8650 - val_loss: 0.5507 - val_accuracy: 0.8049\n"
     ]
    }
   ],
   "source": [
    "training_history=cnn.fit(x=training_set,validation_data=validation_set,epochs=30)"
   ]
  },
  {
   "cell_type": "code",
   "execution_count": null,
   "metadata": {
    "colab": {
     "base_uri": "https://localhost:8080/"
    },
    "id": "GgQDW4jRAZf_",
    "outputId": "e0a59e44-9001-482a-8051-62ab8e20a05e"
   },
   "outputs": [
    {
     "data": {
      "text/plain": [
       "{'loss': [183.70233154296875,\n",
       "  0.8182650804519653,\n",
       "  0.6905490159988403,\n",
       "  0.6562113165855408,\n",
       "  0.6936675906181335,\n",
       "  1.0451210737228394,\n",
       "  0.8562029600143433,\n",
       "  0.6194468140602112,\n",
       "  0.8244835138320923,\n",
       "  2.430055618286133,\n",
       "  1.2355602979660034,\n",
       "  0.7980330586433411,\n",
       "  0.6650897264480591,\n",
       "  1.0605696439743042,\n",
       "  0.43704068660736084,\n",
       "  0.7117232084274292,\n",
       "  0.5883810520172119,\n",
       "  0.3529622554779053,\n",
       "  0.2771739363670349,\n",
       "  0.30760014057159424,\n",
       "  0.904954731464386,\n",
       "  0.39388570189476013,\n",
       "  0.2387387901544571,\n",
       "  0.31199657917022705,\n",
       "  0.7578190565109253,\n",
       "  0.2196449190378189,\n",
       "  1.9198939800262451,\n",
       "  0.30558207631111145,\n",
       "  0.23616120219230652,\n",
       "  0.38193854689598083],\n",
       " 'accuracy': [0.5218977928161621,\n",
       "  0.5328466892242432,\n",
       "  0.6131386756896973,\n",
       "  0.7262773513793945,\n",
       "  0.6094890236854553,\n",
       "  0.6642335653305054,\n",
       "  0.6532846689224243,\n",
       "  0.7554744482040405,\n",
       "  0.6678832173347473,\n",
       "  0.5802919864654541,\n",
       "  0.6386861205101013,\n",
       "  0.6970803141593933,\n",
       "  0.7992700934410095,\n",
       "  0.7153284549713135,\n",
       "  0.8503649830818176,\n",
       "  0.7737226486206055,\n",
       "  0.8576642274856567,\n",
       "  0.8649635314941406,\n",
       "  0.8832116723060608,\n",
       "  0.8576642274856567,\n",
       "  0.7810218930244446,\n",
       "  0.8540145754814148,\n",
       "  0.8941605687141418,\n",
       "  0.8722627758979797,\n",
       "  0.7773722410202026,\n",
       "  0.9270073175430298,\n",
       "  0.7956204414367676,\n",
       "  0.8978102207183838,\n",
       "  0.930656909942627,\n",
       "  0.8649635314941406],\n",
       " 'val_loss': [0.6947938799858093,\n",
       "  0.6637319922447205,\n",
       "  0.6828436255455017,\n",
       "  0.45283806324005127,\n",
       "  0.5114423036575317,\n",
       "  1.0146772861480713,\n",
       "  0.45109814405441284,\n",
       "  0.3672994375228882,\n",
       "  4.658252239227295,\n",
       "  0.7145899534225464,\n",
       "  1.3504999876022339,\n",
       "  0.47789624333381653,\n",
       "  0.42017662525177,\n",
       "  0.429153174161911,\n",
       "  1.5885685682296753,\n",
       "  0.8661086559295654,\n",
       "  0.2767104506492615,\n",
       "  0.21034200489521027,\n",
       "  0.266055703163147,\n",
       "  0.44895339012145996,\n",
       "  0.31542444229125977,\n",
       "  0.26930052042007446,\n",
       "  0.36827486753463745,\n",
       "  0.9657785296440125,\n",
       "  0.4060809910297394,\n",
       "  12.305872917175293,\n",
       "  0.46584808826446533,\n",
       "  0.0978616401553154,\n",
       "  0.3342280387878418,\n",
       "  0.5506969094276428],\n",
       " 'val_accuracy': [0.2195121943950653,\n",
       "  0.8536585569381714,\n",
       "  0.5853658318519592,\n",
       "  0.8536585569381714,\n",
       "  0.8048780560493469,\n",
       "  0.8048780560493469,\n",
       "  0.9024389982223511,\n",
       "  0.8780487775802612,\n",
       "  0.8048780560493469,\n",
       "  0.19512194395065308,\n",
       "  0.4878048896789551,\n",
       "  0.8292682766914368,\n",
       "  0.8536585569381714,\n",
       "  0.8536585569381714,\n",
       "  0.3658536672592163,\n",
       "  0.8048780560493469,\n",
       "  0.8780487775802612,\n",
       "  0.9268292784690857,\n",
       "  0.8536585569381714,\n",
       "  0.707317054271698,\n",
       "  0.8536585569381714,\n",
       "  0.8536585569381714,\n",
       "  0.9024389982223511,\n",
       "  0.8780487775802612,\n",
       "  0.7804877758026123,\n",
       "  0.19512194395065308,\n",
       "  0.8292682766914368,\n",
       "  0.9756097793579102,\n",
       "  0.9024389982223511,\n",
       "  0.8048780560493469]}"
      ]
     },
     "execution_count": 14,
     "metadata": {},
     "output_type": "execute_result"
    }
   ],
   "source": [
    "training_history.history"
   ]
  },
  {
   "cell_type": "code",
   "execution_count": null,
   "metadata": {
    "id": "PFcOJ8kNDgYk"
   },
   "outputs": [],
   "source": []
  },
  {
   "cell_type": "code",
   "execution_count": null,
   "metadata": {
    "id": "Zl9AJ5i-DBRv"
   },
   "outputs": [],
   "source": [
    "cnn.save(\"trained_petr.model.h5\")"
   ]
  },
  {
   "cell_type": "code",
   "execution_count": null,
   "metadata": {
    "id": "qW4wu4klBO7g"
   },
   "outputs": [],
   "source": [
    "import json\n",
    "with open('training_hist.json', 'w') as f:\n",
    "    json.dump(training_history.history, f)"
   ]
  },
  {
   "cell_type": "code",
   "execution_count": null,
   "metadata": {
    "colab": {
     "base_uri": "https://localhost:8080/"
    },
    "id": "zWrI-d7gBR56",
    "outputId": "a9566477-5a1e-4ca8-ad12-64be54058983"
   },
   "outputs": [
    {
     "data": {
      "text/plain": [
       "dict_keys(['loss', 'accuracy', 'val_loss', 'val_accuracy'])"
      ]
     },
     "execution_count": 16,
     "metadata": {},
     "output_type": "execute_result"
    }
   ],
   "source": [
    "training_history.history.keys()"
   ]
  },
  {
   "cell_type": "code",
   "execution_count": null,
   "metadata": {
    "colab": {
     "base_uri": "https://localhost:8080/"
    },
    "id": "blttD6HLBUBC",
    "outputId": "67c637d3-f622-4a2e-83dd-baa6f9ae6c05"
   },
   "outputs": [
    {
     "name": "stdout",
     "output_type": "stream",
     "text": [
      "Validation set Accuracy: 80.48780560493469 %\n"
     ]
    }
   ],
   "source": [
    "print('Validation set Accuracy: {} %'.format(training_history.history['val_accuracy'][-1]*100))"
   ]
  },
  {
   "cell_type": "code",
   "execution_count": null,
   "metadata": {
    "colab": {
     "base_uri": "https://localhost:8080/",
     "height": 472
    },
    "id": "xdVLJHASBWvb",
    "outputId": "5fcfd6fd-1f42-45f6-b216-98af6350c7f0"
   },
   "outputs": [
    {
     "data": {
      "image/png": "[encoded data removed]",
      "text/plain": [
       "<Figure size 640x480 with 1 Axes>"
      ]
     },
     "metadata": {},
     "output_type": "display_data"
    }
   ],
   "source": [
    "epochs=[i for i in range(1,31)]\n",
    "plt.plot(epochs,training_history.history['accuracy'],color='g')\n",
    "plt.xlabel('Epochs')\n",
    "plt.ylabel('Training Accuracy')\n",
    "plt.title(\"Visualization of Training Accuracy Result\")\n",
    "plt.show()"
   ]
  },
  {
   "cell_type": "code",
   "execution_count": null,
   "metadata": {
    "colab": {
     "base_uri": "https://localhost:8080/",
     "height": 472
    },
    "id": "Eogcp2TYBZcx",
    "outputId": "ff47fcb3-d9b9-44e7-c06b-d12c4689e174"
   },
   "outputs": [
    {
     "data": {
      "image/png": "[encoded data removed]",
      "text/plain": [
       "<Figure size 640x480 with 1 Axes>"
      ]
     },
     "metadata": {},
     "output_type": "display_data"
    }
   ],
   "source": [
    "epochs=[i for i in range(1,31)]\n",
    "plt.plot(epochs,training_history.history['val_accuracy'],color='g')\n",
    "plt.xlabel('Epochs')\n",
    "plt.ylabel('Validation Accuracy')\n",
    "plt.title(\"Visualization of Validation Accuracy Result\")\n",
    "plt.show()"
   ]
  },
  {
   "cell_type": "code",
   "execution_count": null,
   "metadata": {
    "id": "4rCt3jkuBcW7"
   },
   "outputs": [],
   "source": []
  }
 ],
 "metadata": {
  "colab": {
   "provenance": []
  },
  "kernelspec": {
   "display_name": "Python 3 (ipykernel)",
   "language": "python",
   "name": "python3"
  },
  "language_info": {
   "codemirror_mode": {
    "name": "ipython",
    "version": 3
   },
   "file_extension": ".py",
   "mimetype": "text/x-python",
   "name": "python",
   "nbconvert_exporter": "python",
   "pygments_lexer": "ipython3",
   "version": "3.9.13"
  }
 },
 "nbformat": 4,
 "nbformat_minor": 1
}
